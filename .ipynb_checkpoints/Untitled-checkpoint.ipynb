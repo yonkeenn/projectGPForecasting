{
 "cells": [
  {
   "cell_type": "code",
   "execution_count": 1,
   "id": "18ea0c84-2839-464d-a70b-87bb718c2f5c",
   "metadata": {},
   "outputs": [],
   "source": [
    "import pandas as pd\n",
    "import numpy as np\n",
    "import matplotlib.pyplot as plt\n",
    "import seaborn  as sn "
   ]
  },
  {
   "cell_type": "markdown",
   "id": "5a801b00-5ff0-4a1b-b166-5d0b58d9530c",
   "metadata": {},
   "source": [
    "# 1. Generating Dataset"
   ]
  },
  {
   "cell_type": "code",
   "execution_count": null,
   "id": "53bf9fa6-699c-4b2c-9581-166a9c1b1714",
   "metadata": {},
   "outputs": [],
   "source": []
  }
 ],
 "metadata": {
  "kernelspec": {
   "display_name": "Python 3 (ipykernel)",
   "language": "python",
   "name": "python3"
  },
  "language_info": {
   "codemirror_mode": {
    "name": "ipython",
    "version": 3
   },
   "file_extension": ".py",
   "mimetype": "text/x-python",
   "name": "python",
   "nbconvert_exporter": "python",
   "pygments_lexer": "ipython3",
   "version": "3.9.13"
  }
 },
 "nbformat": 4,
 "nbformat_minor": 5
}
